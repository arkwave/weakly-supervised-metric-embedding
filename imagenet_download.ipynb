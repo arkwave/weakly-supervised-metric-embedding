{
 "cells": [
  {
   "cell_type": "code",
   "execution_count": 10,
   "metadata": {},
   "outputs": [],
   "source": [
    "from bs4 import BeautifulSoup\n",
    "import numpy as np \n",
    "import requests\n",
    "import urllib\n",
    "import cv2\n"
   ]
  },
  {
   "cell_type": "code",
   "execution_count": 11,
   "metadata": {},
   "outputs": [],
   "source": [
    "def url_to_image(url):\n",
    "    # download the image, convert it to a NumPy array, and then read\n",
    "    # it into OpenCV format\n",
    "    resp = urllib.request.urlopen(url)\n",
    "    image = np.asarray(bytearray(resp.read()), dtype=\"uint8\")\n",
    "    image = cv2.imdecode(image, cv2.IMREAD_COLOR)\n",
    " \n",
    "    # return the image\n",
    "    return image"
   ]
  },
  {
   "cell_type": "code",
   "execution_count": 15,
   "metadata": {},
   "outputs": [],
   "source": [
    "general_url = \"http://image-net.org/api/text/imagenet.synset.geturls?wnid=\"\n",
    "\n",
    "def get_url(id_, general_url=general_url):\n",
    "    page = requests.get(general_url + id_).content\n",
    "    soup = BeautifulSoup(page, 'html.parser')\n",
    "    return soup\n",
    "\n",
    "\n",
    "ids = {'dog': \"n02083346\",\n",
    "       'cat': \"n02120997\",\n",
    "       'snake': \"n01726692\" ,\n",
    "       'lizard':\"n01674464\", \n",
    "       'horses': \"n02374451\",\n",
    "       'bovine':\"n02402010\",\n",
    "       'deer': \"n02430045\"}\n",
    "\n",
    "super_categories = {'mammals': ['dog', 'cat', 'horses', 'deer', 'bovine'],\n",
    "                    'reptiles': ['dinosaur', 'lizard', 'snake']}"
   ]
  },
  {
   "cell_type": "code",
   "execution_count": 13,
   "metadata": {},
   "outputs": [],
   "source": [
    "def soups_from_ids(ids):\n",
    "    soups = {key: \"\" for key in ids}\n",
    "    for id_ in ids:\n",
    "        soup = get_url(ids[id_])\n",
    "        soups[id_] = soup\n",
    "    return soups\n",
    "    "
   ]
  },
  {
   "cell_type": "code",
   "execution_count": 19,
   "metadata": {},
   "outputs": [
    {
     "name": "stdout",
     "output_type": "stream",
     "text": [
      "processing dog images\n",
      "processing snake images\n",
      "processing lizard images\n",
      "processing dinosaur images\n",
      "processing horses images\n",
      "processing bovine images\n",
      "processing deer images\n",
      "missing images:  434\n"
     ]
    }
   ],
   "source": [
    "def download_images(soups):\n",
    "    missing = 0\n",
    "    for key, soup in soups.items():\n",
    "        img_num = 1\n",
    "        path = 'datasets/' + key + '/'\n",
    "        urls = str(soup).split('\\r\\n')\n",
    "        print('processing %s images' % key)\n",
    "        for url in urls:\n",
    "            if img_num > 150:\n",
    "                break\n",
    "            try:\n",
    "                img = url_to_image(url)\n",
    "                if img is not None:\n",
    "                    name = str(key) + '_' + str(img_num) + '.jpg'\n",
    "                    cv2.imwrite(path + name, img)\n",
    "                    img_num += 1\n",
    "            except (urllib.error.HTTPError, urllib.error.URLError, ValueError) as e:\n",
    "                missing += 1\n",
    "            except TimeoutError as e:\n",
    "                continue \n",
    "                missing += 1\n",
    "            except:\n",
    "                missing += 1\n",
    "            \n",
    "    print('missing images: ', missing)\n",
    "    \n",
    "\n",
    "    \n",
    "ids = {'dinosaur':\"n01699831\",\n",
    "       'bovine':\"n02402010\",\n",
    "       'deer': \"n02430045\"}    \n",
    "    \n",
    "soups = soups_from_ids(ids)\n",
    "\n",
    "download_images(soups)"
   ]
  },
  {
   "cell_type": "code",
   "execution_count": null,
   "metadata": {},
   "outputs": [],
   "source": []
  },
  {
   "cell_type": "code",
   "execution_count": null,
   "metadata": {},
   "outputs": [],
   "source": []
  }
 ],
 "metadata": {
  "kernelspec": {
   "display_name": "Python 3",
   "language": "python",
   "name": "python3"
  },
  "language_info": {
   "codemirror_mode": {
    "name": "ipython",
    "version": 3
   },
   "file_extension": ".py",
   "mimetype": "text/x-python",
   "name": "python",
   "nbconvert_exporter": "python",
   "pygments_lexer": "ipython3",
   "version": "3.7.7"
  }
 },
 "nbformat": 4,
 "nbformat_minor": 4
}
